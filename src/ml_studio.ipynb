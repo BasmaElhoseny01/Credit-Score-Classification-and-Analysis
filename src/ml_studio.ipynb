{
 "cells": [
  {
   "cell_type": "code",
   "execution_count": 1,
   "metadata": {},
   "outputs": [
    {
     "data": {
      "text/plain": [
       "<Experiment: artifact_location='file:///d:/Big-Data-Project/src/mlruns/875328833277298238', creation_time=1714752845417, experiment_id='875328833277298238', last_update_time=1714752845417, lifecycle_stage='active', name='random-forest', tags={}>"
      ]
     },
     "execution_count": 1,
     "metadata": {},
     "output_type": "execute_result"
    }
   ],
   "source": [
    "import mlflow\n",
    "mlflow.set_tracking_uri = \"azureml://eastus2.api.azureml.ms/mlflow/v1.0/subscriptions/5a163d03-9c0d-49ba-9298-c589db36afde/resourceGroups/14712019101268-rg/providers/Microsoft.MachineLearningServices/workspaces/big_data \"\n",
    "mlflow.set_experiment(experiment_name=\"random-forest\")"
   ]
  },
  {
   "cell_type": "code",
   "execution_count": 2,
   "metadata": {},
   "outputs": [
    {
     "name": "stderr",
     "output_type": "stream",
     "text": [
      "c:\\Users\\Dell\\AppData\\Local\\Programs\\Python\\Python310\\lib\\site-packages\\sklearn\\ensemble\\_forest.py:424: FutureWarning: `max_features='auto'` has been deprecated in 1.1 and will be removed in 1.3. To keep the past behaviour, explicitly set `max_features='sqrt'` or remove this parameter as it is also the default value for RandomForestClassifiers and ExtraTreesClassifiers.\n",
      "  warn(\n"
     ]
    },
    {
     "name": "stdout",
     "output_type": "stream",
     "text": [
      "Accuracy Train: 0.9999882352941176\n",
      "Confusion matrix: [[15201     0     0]\n",
      " [    0 24577     0]\n",
      " [    0     1 45221]]\n",
      "Precision: [1.         0.99995931 1.        ]\n",
      "Recall: [1.         1.         0.99997789]\n",
      "F1 score: [1.         0.99997966 0.99998894]\n",
      "Accuracy Test: 0.8016\n",
      "Confusion matrix: [[1967    8  652]\n",
      " [  18 3689  714]\n",
      " [ 591  993 6368]]\n",
      "Precision: [0.76358696 0.78656716 0.8233773 ]\n",
      "Recall: [0.74876285 0.8344266  0.80080483]\n",
      "F1 score: [0.75610225 0.80979036 0.81193421]\n"
     ]
    }
   ],
   "source": [
    "from data_preprocessing import DataPreprocessing\n",
    "from random_forest import RandomForestTrainer\n",
    "with mlflow.start_run():\n",
    "        \n",
    "    data_preprocessing = DataPreprocessing('../dataset/train_preprocessed.csv')\n",
    "    data_preprocessing.load_data()\n",
    "    y = data_preprocessing.convert_Y_to_numerical()\n",
    "    data_preprocessing.drop_columns(['Credit_Score'])\n",
    "    X = data_preprocessing.convert_catgories_to_numerical2()\n",
    "    random_forest_trainer = RandomForestTrainer()\n",
    "    random_forest_trainer.split_data(X, y)\n",
    "    train_accuracy,confusion_mat,precision,recall,f1_score = random_forest_trainer.train()\n",
    "    mlflow.log_metric(\"Train accuracy\",train_accuracy)\n",
    "\n",
    "    eval_accuracy,confusion_mat,precision,recall,f1_score = random_forest_trainer.evaluate()\n",
    "    mlflow.log_metric(\"Eval accuracy\",eval_accuracy)"
   ]
  },
  {
   "cell_type": "code",
   "execution_count": null,
   "metadata": {},
   "outputs": [],
   "source": []
  }
 ],
 "metadata": {
  "kernelspec": {
   "display_name": "Python 3",
   "language": "python",
   "name": "python3"
  },
  "language_info": {
   "codemirror_mode": {
    "name": "ipython",
    "version": 3
   },
   "file_extension": ".py",
   "mimetype": "text/x-python",
   "name": "python",
   "nbconvert_exporter": "python",
   "pygments_lexer": "ipython3",
   "version": "3.10.9"
  }
 },
 "nbformat": 4,
 "nbformat_minor": 2
}
