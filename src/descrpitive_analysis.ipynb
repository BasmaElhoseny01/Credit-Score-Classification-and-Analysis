{
 "cells": [
  {
   "cell_type": "code",
   "execution_count": 1,
   "metadata": {},
   "outputs": [],
   "source": [
    "%load_ext autoreload\n",
    "%autoreload 2"
   ]
  },
  {
   "cell_type": "code",
   "execution_count": 37,
   "metadata": {},
   "outputs": [],
   "source": [
    "import matplotlib.pyplot as plt\n",
    "from itertools import combinations\n",
    "\n",
    "from data_preprocessing import DataPreprocessing"
   ]
  },
  {
   "cell_type": "code",
   "execution_count": 59,
   "metadata": {},
   "outputs": [],
   "source": [
    "def plot_clusters(X,y,feature1,feature2,features,classes):\n",
    "        # Get the indices of the features\n",
    "        # f1_index = features.get_loc(feature1)\n",
    "        # f2_index = features.get_loc(feature2)\n",
    "\n",
    "        # print(f1_index)\n",
    "\n",
    "        \n",
    "        # Plot the clusters\n",
    "        for i, class_name in enumerate(classes):\n",
    "                class_indices = y == i\n",
    "                # print(X.loc[class_indices, feature1])\n",
    "                # print(X.loc[class_indices, feature2])\n",
    "                plt.scatter(X.loc[class_indices, feature1], X.loc[class_indices, feature2], label=class_name, cmap='viridis')\n",
    "        plt.title('Cluster Plot [Golden Cluster]')\n",
    "        plt.xlabel(feature1)\n",
    "        plt.ylabel(feature2)\n",
    "        plt.legend()\n",
    "        plt.show()"
   ]
  },
  {
   "cell_type": "code",
   "execution_count": 62,
   "metadata": {},
   "outputs": [
    {
     "ename": "AttributeError",
     "evalue": "'numpy.ndarray' object has no attribute 'loc'",
     "output_type": "error",
     "traceback": [
      "\u001b[1;31m---------------------------------------------------------------------------\u001b[0m",
      "\u001b[1;31mAttributeError\u001b[0m                            Traceback (most recent call last)",
      "Cell \u001b[1;32mIn[62], line 20\u001b[0m\n\u001b[0;32m     16\u001b[0m \u001b[38;5;66;03m# print(feature_pairs)\u001b[39;00m\n\u001b[0;32m     17\u001b[0m \n\u001b[0;32m     18\u001b[0m \u001b[38;5;66;03m# Iterate over each pair and plot clusters\u001b[39;00m\n\u001b[0;32m     19\u001b[0m \u001b[38;5;28;01mfor\u001b[39;00m feature1, feature2 \u001b[38;5;129;01min\u001b[39;00m feature_pairs:\n\u001b[1;32m---> 20\u001b[0m     \u001b[43mplot_clusters\u001b[49m\u001b[43m(\u001b[49m\u001b[43mX\u001b[49m\u001b[43m,\u001b[49m\u001b[43m \u001b[49m\u001b[43my\u001b[49m\u001b[43m,\u001b[49m\u001b[43m \u001b[49m\u001b[43mfeature1\u001b[49m\u001b[43m,\u001b[49m\u001b[43m \u001b[49m\u001b[43mfeature2\u001b[49m\u001b[43m,\u001b[49m\u001b[43m \u001b[49m\u001b[43mfeatures\u001b[49m\u001b[38;5;241;43m=\u001b[39;49m\u001b[43mdata_preprocessing\u001b[49m\u001b[38;5;241;43m.\u001b[39;49m\u001b[43mget_columns\u001b[49m\u001b[43m(\u001b[49m\u001b[43m)\u001b[49m\u001b[43m,\u001b[49m\u001b[43m \u001b[49m\u001b[43mclasses\u001b[49m\u001b[38;5;241;43m=\u001b[39;49m\u001b[43mclasses\u001b[49m\u001b[43m)\u001b[49m\n\u001b[0;32m     23\u001b[0m \u001b[38;5;66;03m# # Drop Target Column\u001b[39;00m\n\u001b[0;32m     24\u001b[0m \n\u001b[0;32m     25\u001b[0m \u001b[38;5;66;03m# Convert Categorical Columns to One Hot Encoded & Scale continuous columns\u001b[39;00m\n\u001b[0;32m     26\u001b[0m \u001b[38;5;66;03m# X = data_preprocessing.convert_categories_to_one_hot_normalize_numerical\u001b[39;00m\n",
      "Cell \u001b[1;32mIn[59], line 14\u001b[0m, in \u001b[0;36mplot_clusters\u001b[1;34m(X, y, feature1, feature2, features, classes)\u001b[0m\n\u001b[0;32m     11\u001b[0m         class_indices \u001b[38;5;241m=\u001b[39m y \u001b[38;5;241m==\u001b[39m i\n\u001b[0;32m     12\u001b[0m         \u001b[38;5;66;03m# print(X.loc[class_indices, feature1])\u001b[39;00m\n\u001b[0;32m     13\u001b[0m         \u001b[38;5;66;03m# print(X.loc[class_indices, feature2])\u001b[39;00m\n\u001b[1;32m---> 14\u001b[0m         plt\u001b[38;5;241m.\u001b[39mscatter(\u001b[43mX\u001b[49m\u001b[38;5;241;43m.\u001b[39;49m\u001b[43mloc\u001b[49m[class_indices, feature1], X\u001b[38;5;241m.\u001b[39mloc[class_indices, feature2], label\u001b[38;5;241m=\u001b[39mclass_name, cmap\u001b[38;5;241m=\u001b[39m\u001b[38;5;124m'\u001b[39m\u001b[38;5;124mviridis\u001b[39m\u001b[38;5;124m'\u001b[39m)\n\u001b[0;32m     15\u001b[0m plt\u001b[38;5;241m.\u001b[39mtitle(\u001b[38;5;124m'\u001b[39m\u001b[38;5;124mCluster Plot [Golden Cluster]\u001b[39m\u001b[38;5;124m'\u001b[39m)\n\u001b[0;32m     16\u001b[0m plt\u001b[38;5;241m.\u001b[39mxlabel(feature1)\n",
      "\u001b[1;31mAttributeError\u001b[0m: 'numpy.ndarray' object has no attribute 'loc'"
     ]
    }
   ],
   "source": [
    "# Load the data\n",
    "data_preprocessing = DataPreprocessing('../dataset/train_preprocessed.csv')\n",
    "data_preprocessing.load_data()\n",
    "\n",
    "y,classes=data_preprocessing.convert_Y_to_numerical(return_classes=True)\n",
    "data_preprocessing.drop_columns(['Credit_Score'])\n",
    "\n",
    "\n",
    "# Convert Categorical Columns to One Hot Encoded & Scale continuous columns\n",
    "# X = data_preprocessing.convert_categories_to_one_hot_normalize_numerical()\n",
    "X = data_preprocessing.convert_catgories_to_numerical2(stop_standarization=True)\n",
    "top_features = ['Outstanding_Debt','Amount_invested_monthly','Interest_Rate','Credit_Utilization_Ratio']\n",
    "\n",
    "# Generate all combinations of pairs\n",
    "feature_pairs = list(combinations(top_features, 2))\n",
    "# print(feature_pairs)\n",
    "\n",
    "# Iterate over each pair and plot clusters\n",
    "for feature1, feature2 in feature_pairs:\n",
    "    plot_clusters(X, y, feature1, feature2, features=data_preprocessing.get_columns(), classes=classes)\n",
    "\n",
    "\n",
    "# # Drop Target Column\n",
    "\n",
    "# Convert Categorical Columns to One Hot Encoded & Scale continuous columns\n",
    "# X = data_preprocessing.convert_categories_to_one_hot_normalize_numerical"
   ]
  },
  {
   "cell_type": "code",
   "execution_count": null,
   "metadata": {},
   "outputs": [],
   "source": []
  }
 ],
 "metadata": {
  "kernelspec": {
   "display_name": "Python 3",
   "language": "python",
   "name": "python3"
  },
  "language_info": {
   "codemirror_mode": {
    "name": "ipython",
    "version": 3
   },
   "file_extension": ".py",
   "mimetype": "text/x-python",
   "name": "python",
   "nbconvert_exporter": "python",
   "pygments_lexer": "ipython3",
   "version": "3.10.9"
  }
 },
 "nbformat": 4,
 "nbformat_minor": 2
}
